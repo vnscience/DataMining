{
  "nbformat": 4,
  "nbformat_minor": 0,
  "metadata": {
    "colab": {
      "provenance": [],
      "mount_file_id": "1MKSHcv9meMoS7rI-oAIzQtiCYAl8CnHU",
      "authorship_tag": "ABX9TyNRjAE5y9w3ltUEXLPl0uGV",
      "include_colab_link": true
    },
    "kernelspec": {
      "name": "python3",
      "display_name": "Python 3"
    },
    "language_info": {
      "name": "python"
    }
  },
  "cells": [
    {
      "cell_type": "markdown",
      "metadata": {
        "id": "view-in-github",
        "colab_type": "text"
      },
      "source": [
        "<a href=\"https://colab.research.google.com/github/vnscience/DataMining/blob/main/KPDL_BTH02.ipynb\" target=\"_parent\"><img src=\"https://colab.research.google.com/assets/colab-badge.svg\" alt=\"Open In Colab\"/></a>"
      ]
    },
    {
      "cell_type": "markdown",
      "source": [
        "## Câu 1: Khởi động và Tải dữ liệu"
      ],
      "metadata": {
        "id": "-cj41WJ7sSws"
      }
    },
    {
      "cell_type": "code",
      "execution_count": 3,
      "metadata": {
        "colab": {
          "base_uri": "https://localhost:8080/",
          "height": 206
        },
        "id": "jiHXUOmur5Ra",
        "outputId": "7bcd3a71-cf43-4299-f435-f3722a16a411"
      },
      "outputs": [
        {
          "output_type": "execute_result",
          "data": {
            "text/plain": [
              "       sbd  toan  ngu_van  ngoai_ngu  vat_li  hoa_hoc  sinh_hoc  lich_su  \\\n",
              "0  1000001   8.4     6.75        8.0     6.0     5.25       5.0      NaN   \n",
              "1  1000002   8.6     8.50        7.2     NaN      NaN       NaN     7.25   \n",
              "2  1000003   8.2     8.75        8.2     NaN      NaN       NaN     7.25   \n",
              "3  1000004   4.8     8.50        7.4     NaN      NaN       NaN     7.00   \n",
              "4  1000005   8.6     9.00        7.8     NaN      NaN       NaN     9.00   \n",
              "\n",
              "   dia_li  gdcd ma_ngoai_ngu  \n",
              "0     NaN   NaN           N1  \n",
              "1    6.00  8.00           N1  \n",
              "2    7.25  8.75           N1  \n",
              "3    6.00  7.50           N1  \n",
              "4    8.75  8.50           N1  "
            ],
            "text/html": [
              "\n",
              "  <div id=\"df-359f82d3-fb26-4eb0-bb4b-8c2a88d4e2e7\" class=\"colab-df-container\">\n",
              "    <div>\n",
              "<style scoped>\n",
              "    .dataframe tbody tr th:only-of-type {\n",
              "        vertical-align: middle;\n",
              "    }\n",
              "\n",
              "    .dataframe tbody tr th {\n",
              "        vertical-align: top;\n",
              "    }\n",
              "\n",
              "    .dataframe thead th {\n",
              "        text-align: right;\n",
              "    }\n",
              "</style>\n",
              "<table border=\"1\" class=\"dataframe\">\n",
              "  <thead>\n",
              "    <tr style=\"text-align: right;\">\n",
              "      <th></th>\n",
              "      <th>sbd</th>\n",
              "      <th>toan</th>\n",
              "      <th>ngu_van</th>\n",
              "      <th>ngoai_ngu</th>\n",
              "      <th>vat_li</th>\n",
              "      <th>hoa_hoc</th>\n",
              "      <th>sinh_hoc</th>\n",
              "      <th>lich_su</th>\n",
              "      <th>dia_li</th>\n",
              "      <th>gdcd</th>\n",
              "      <th>ma_ngoai_ngu</th>\n",
              "    </tr>\n",
              "  </thead>\n",
              "  <tbody>\n",
              "    <tr>\n",
              "      <th>0</th>\n",
              "      <td>1000001</td>\n",
              "      <td>8.4</td>\n",
              "      <td>6.75</td>\n",
              "      <td>8.0</td>\n",
              "      <td>6.0</td>\n",
              "      <td>5.25</td>\n",
              "      <td>5.0</td>\n",
              "      <td>NaN</td>\n",
              "      <td>NaN</td>\n",
              "      <td>NaN</td>\n",
              "      <td>N1</td>\n",
              "    </tr>\n",
              "    <tr>\n",
              "      <th>1</th>\n",
              "      <td>1000002</td>\n",
              "      <td>8.6</td>\n",
              "      <td>8.50</td>\n",
              "      <td>7.2</td>\n",
              "      <td>NaN</td>\n",
              "      <td>NaN</td>\n",
              "      <td>NaN</td>\n",
              "      <td>7.25</td>\n",
              "      <td>6.00</td>\n",
              "      <td>8.00</td>\n",
              "      <td>N1</td>\n",
              "    </tr>\n",
              "    <tr>\n",
              "      <th>2</th>\n",
              "      <td>1000003</td>\n",
              "      <td>8.2</td>\n",
              "      <td>8.75</td>\n",
              "      <td>8.2</td>\n",
              "      <td>NaN</td>\n",
              "      <td>NaN</td>\n",
              "      <td>NaN</td>\n",
              "      <td>7.25</td>\n",
              "      <td>7.25</td>\n",
              "      <td>8.75</td>\n",
              "      <td>N1</td>\n",
              "    </tr>\n",
              "    <tr>\n",
              "      <th>3</th>\n",
              "      <td>1000004</td>\n",
              "      <td>4.8</td>\n",
              "      <td>8.50</td>\n",
              "      <td>7.4</td>\n",
              "      <td>NaN</td>\n",
              "      <td>NaN</td>\n",
              "      <td>NaN</td>\n",
              "      <td>7.00</td>\n",
              "      <td>6.00</td>\n",
              "      <td>7.50</td>\n",
              "      <td>N1</td>\n",
              "    </tr>\n",
              "    <tr>\n",
              "      <th>4</th>\n",
              "      <td>1000005</td>\n",
              "      <td>8.6</td>\n",
              "      <td>9.00</td>\n",
              "      <td>7.8</td>\n",
              "      <td>NaN</td>\n",
              "      <td>NaN</td>\n",
              "      <td>NaN</td>\n",
              "      <td>9.00</td>\n",
              "      <td>8.75</td>\n",
              "      <td>8.50</td>\n",
              "      <td>N1</td>\n",
              "    </tr>\n",
              "  </tbody>\n",
              "</table>\n",
              "</div>\n",
              "    <div class=\"colab-df-buttons\">\n",
              "\n",
              "  <div class=\"colab-df-container\">\n",
              "    <button class=\"colab-df-convert\" onclick=\"convertToInteractive('df-359f82d3-fb26-4eb0-bb4b-8c2a88d4e2e7')\"\n",
              "            title=\"Convert this dataframe to an interactive table.\"\n",
              "            style=\"display:none;\">\n",
              "\n",
              "  <svg xmlns=\"http://www.w3.org/2000/svg\" height=\"24px\" viewBox=\"0 -960 960 960\">\n",
              "    <path d=\"M120-120v-720h720v720H120Zm60-500h600v-160H180v160Zm220 220h160v-160H400v160Zm0 220h160v-160H400v160ZM180-400h160v-160H180v160Zm440 0h160v-160H620v160ZM180-180h160v-160H180v160Zm440 0h160v-160H620v160Z\"/>\n",
              "  </svg>\n",
              "    </button>\n",
              "\n",
              "  <style>\n",
              "    .colab-df-container {\n",
              "      display:flex;\n",
              "      gap: 12px;\n",
              "    }\n",
              "\n",
              "    .colab-df-convert {\n",
              "      background-color: #E8F0FE;\n",
              "      border: none;\n",
              "      border-radius: 50%;\n",
              "      cursor: pointer;\n",
              "      display: none;\n",
              "      fill: #1967D2;\n",
              "      height: 32px;\n",
              "      padding: 0 0 0 0;\n",
              "      width: 32px;\n",
              "    }\n",
              "\n",
              "    .colab-df-convert:hover {\n",
              "      background-color: #E2EBFA;\n",
              "      box-shadow: 0px 1px 2px rgba(60, 64, 67, 0.3), 0px 1px 3px 1px rgba(60, 64, 67, 0.15);\n",
              "      fill: #174EA6;\n",
              "    }\n",
              "\n",
              "    .colab-df-buttons div {\n",
              "      margin-bottom: 4px;\n",
              "    }\n",
              "\n",
              "    [theme=dark] .colab-df-convert {\n",
              "      background-color: #3B4455;\n",
              "      fill: #D2E3FC;\n",
              "    }\n",
              "\n",
              "    [theme=dark] .colab-df-convert:hover {\n",
              "      background-color: #434B5C;\n",
              "      box-shadow: 0px 1px 3px 1px rgba(0, 0, 0, 0.15);\n",
              "      filter: drop-shadow(0px 1px 2px rgba(0, 0, 0, 0.3));\n",
              "      fill: #FFFFFF;\n",
              "    }\n",
              "  </style>\n",
              "\n",
              "    <script>\n",
              "      const buttonEl =\n",
              "        document.querySelector('#df-359f82d3-fb26-4eb0-bb4b-8c2a88d4e2e7 button.colab-df-convert');\n",
              "      buttonEl.style.display =\n",
              "        google.colab.kernel.accessAllowed ? 'block' : 'none';\n",
              "\n",
              "      async function convertToInteractive(key) {\n",
              "        const element = document.querySelector('#df-359f82d3-fb26-4eb0-bb4b-8c2a88d4e2e7');\n",
              "        const dataTable =\n",
              "          await google.colab.kernel.invokeFunction('convertToInteractive',\n",
              "                                                    [key], {});\n",
              "        if (!dataTable) return;\n",
              "\n",
              "        const docLinkHtml = 'Like what you see? Visit the ' +\n",
              "          '<a target=\"_blank\" href=https://colab.research.google.com/notebooks/data_table.ipynb>data table notebook</a>'\n",
              "          + ' to learn more about interactive tables.';\n",
              "        element.innerHTML = '';\n",
              "        dataTable['output_type'] = 'display_data';\n",
              "        await google.colab.output.renderOutput(dataTable, element);\n",
              "        const docLink = document.createElement('div');\n",
              "        docLink.innerHTML = docLinkHtml;\n",
              "        element.appendChild(docLink);\n",
              "      }\n",
              "    </script>\n",
              "  </div>\n",
              "\n",
              "\n",
              "    <div id=\"df-61528609-404d-42da-b215-e8d63bf57358\">\n",
              "      <button class=\"colab-df-quickchart\" onclick=\"quickchart('df-61528609-404d-42da-b215-e8d63bf57358')\"\n",
              "                title=\"Suggest charts\"\n",
              "                style=\"display:none;\">\n",
              "\n",
              "<svg xmlns=\"http://www.w3.org/2000/svg\" height=\"24px\"viewBox=\"0 0 24 24\"\n",
              "     width=\"24px\">\n",
              "    <g>\n",
              "        <path d=\"M19 3H5c-1.1 0-2 .9-2 2v14c0 1.1.9 2 2 2h14c1.1 0 2-.9 2-2V5c0-1.1-.9-2-2-2zM9 17H7v-7h2v7zm4 0h-2V7h2v10zm4 0h-2v-4h2v4z\"/>\n",
              "    </g>\n",
              "</svg>\n",
              "      </button>\n",
              "\n",
              "<style>\n",
              "  .colab-df-quickchart {\n",
              "      --bg-color: #E8F0FE;\n",
              "      --fill-color: #1967D2;\n",
              "      --hover-bg-color: #E2EBFA;\n",
              "      --hover-fill-color: #174EA6;\n",
              "      --disabled-fill-color: #AAA;\n",
              "      --disabled-bg-color: #DDD;\n",
              "  }\n",
              "\n",
              "  [theme=dark] .colab-df-quickchart {\n",
              "      --bg-color: #3B4455;\n",
              "      --fill-color: #D2E3FC;\n",
              "      --hover-bg-color: #434B5C;\n",
              "      --hover-fill-color: #FFFFFF;\n",
              "      --disabled-bg-color: #3B4455;\n",
              "      --disabled-fill-color: #666;\n",
              "  }\n",
              "\n",
              "  .colab-df-quickchart {\n",
              "    background-color: var(--bg-color);\n",
              "    border: none;\n",
              "    border-radius: 50%;\n",
              "    cursor: pointer;\n",
              "    display: none;\n",
              "    fill: var(--fill-color);\n",
              "    height: 32px;\n",
              "    padding: 0;\n",
              "    width: 32px;\n",
              "  }\n",
              "\n",
              "  .colab-df-quickchart:hover {\n",
              "    background-color: var(--hover-bg-color);\n",
              "    box-shadow: 0 1px 2px rgba(60, 64, 67, 0.3), 0 1px 3px 1px rgba(60, 64, 67, 0.15);\n",
              "    fill: var(--button-hover-fill-color);\n",
              "  }\n",
              "\n",
              "  .colab-df-quickchart-complete:disabled,\n",
              "  .colab-df-quickchart-complete:disabled:hover {\n",
              "    background-color: var(--disabled-bg-color);\n",
              "    fill: var(--disabled-fill-color);\n",
              "    box-shadow: none;\n",
              "  }\n",
              "\n",
              "  .colab-df-spinner {\n",
              "    border: 2px solid var(--fill-color);\n",
              "    border-color: transparent;\n",
              "    border-bottom-color: var(--fill-color);\n",
              "    animation:\n",
              "      spin 1s steps(1) infinite;\n",
              "  }\n",
              "\n",
              "  @keyframes spin {\n",
              "    0% {\n",
              "      border-color: transparent;\n",
              "      border-bottom-color: var(--fill-color);\n",
              "      border-left-color: var(--fill-color);\n",
              "    }\n",
              "    20% {\n",
              "      border-color: transparent;\n",
              "      border-left-color: var(--fill-color);\n",
              "      border-top-color: var(--fill-color);\n",
              "    }\n",
              "    30% {\n",
              "      border-color: transparent;\n",
              "      border-left-color: var(--fill-color);\n",
              "      border-top-color: var(--fill-color);\n",
              "      border-right-color: var(--fill-color);\n",
              "    }\n",
              "    40% {\n",
              "      border-color: transparent;\n",
              "      border-right-color: var(--fill-color);\n",
              "      border-top-color: var(--fill-color);\n",
              "    }\n",
              "    60% {\n",
              "      border-color: transparent;\n",
              "      border-right-color: var(--fill-color);\n",
              "    }\n",
              "    80% {\n",
              "      border-color: transparent;\n",
              "      border-right-color: var(--fill-color);\n",
              "      border-bottom-color: var(--fill-color);\n",
              "    }\n",
              "    90% {\n",
              "      border-color: transparent;\n",
              "      border-bottom-color: var(--fill-color);\n",
              "    }\n",
              "  }\n",
              "</style>\n",
              "\n",
              "      <script>\n",
              "        async function quickchart(key) {\n",
              "          const quickchartButtonEl =\n",
              "            document.querySelector('#' + key + ' button');\n",
              "          quickchartButtonEl.disabled = true;  // To prevent multiple clicks.\n",
              "          quickchartButtonEl.classList.add('colab-df-spinner');\n",
              "          try {\n",
              "            const charts = await google.colab.kernel.invokeFunction(\n",
              "                'suggestCharts', [key], {});\n",
              "          } catch (error) {\n",
              "            console.error('Error during call to suggestCharts:', error);\n",
              "          }\n",
              "          quickchartButtonEl.classList.remove('colab-df-spinner');\n",
              "          quickchartButtonEl.classList.add('colab-df-quickchart-complete');\n",
              "        }\n",
              "        (() => {\n",
              "          let quickchartButtonEl =\n",
              "            document.querySelector('#df-61528609-404d-42da-b215-e8d63bf57358 button');\n",
              "          quickchartButtonEl.style.display =\n",
              "            google.colab.kernel.accessAllowed ? 'block' : 'none';\n",
              "        })();\n",
              "      </script>\n",
              "    </div>\n",
              "\n",
              "    </div>\n",
              "  </div>\n"
            ],
            "application/vnd.google.colaboratory.intrinsic+json": {
              "type": "dataframe",
              "variable_name": "df"
            }
          },
          "metadata": {},
          "execution_count": 3
        }
      ],
      "source": [
        "url = \"https://github.com/anhdung98/diem_thi_2024/releases/download/240717/diem_thi_thpt_2024.csv\"\n",
        "import pandas as pd\n",
        "\n",
        "df = pd.read_csv(url)\n",
        "df.head()"
      ]
    },
    {
      "cell_type": "code",
      "source": [
        "# 1.1. Tổng số thí sinh có trong bộ dữ liệu là bao nhiêu?\n",
        "num_students = df.shape[0]\n",
        "print(f\"Tổng số thí sinh trong bộ dữ liệu là: {num_students}\")"
      ],
      "metadata": {
        "colab": {
          "base_uri": "https://localhost:8080/"
        },
        "id": "fHP-Iq7ZtSTU",
        "outputId": "248b3f5c-6b35-446c-c24d-754dbcc474f8"
      },
      "execution_count": 4,
      "outputs": [
        {
          "output_type": "stream",
          "name": "stdout",
          "text": [
            "Tổng số thí sinh trong bộ dữ liệu là: 1061605\n"
          ]
        }
      ]
    },
    {
      "cell_type": "markdown",
      "source": [
        "1.2. Giải thích bằng lời cách tính điểm tổ hợp KHTN (Lý, Hóa, Sinh) và KHXH (Sử, Địa,\n",
        "GDCD) cho một thí sinh."
      ],
      "metadata": {
        "id": "tHEYfgbitrWj"
      }
    },
    {
      "cell_type": "markdown",
      "source": [
        "## Câu 2: Phân tích Chuyên sâu và Trực quan hóa"
      ],
      "metadata": {
        "id": "2ssWK0qutvjz"
      }
    },
    {
      "cell_type": "code",
      "source": [
        "# 2.1. Có tổng cộng bao nhiêu bài thi môn Toán đã được chấm?\n",
        "df['toan'].count()"
      ],
      "metadata": {
        "colab": {
          "base_uri": "https://localhost:8080/"
        },
        "id": "GlW2S5nWtqp7",
        "outputId": "b5d5b47c-91c6-4e5b-fadb-1a51366d9597"
      },
      "execution_count": 28,
      "outputs": [
        {
          "output_type": "execute_result",
          "data": {
            "text/plain": [
              "np.int64(1045613)"
            ]
          },
          "metadata": {},
          "execution_count": 28
        }
      ]
    },
    {
      "cell_type": "code",
      "source": [
        "# 2.2. Xây dựng phổ điểm của môn Toán\n",
        "import numpy as np\n",
        "bins = np.arange(0, 10.2, 0.2)\n",
        "pho_diem_toan = df['toan'].value_counts(bins=bins).sort_index()\n",
        "pho_diem_toan"
      ],
      "metadata": {
        "colab": {
          "base_uri": "https://localhost:8080/",
          "height": 1000
        },
        "collapsed": true,
        "id": "YHWyM5qtuBT0",
        "outputId": "1c704529-0b02-41ef-ccfd-32d3d3b34810"
      },
      "execution_count": 29,
      "outputs": [
        {
          "output_type": "execute_result",
          "data": {
            "text/plain": [
              "(-0.001, 0.2]        1\n",
              "(0.2, 0.4]           1\n",
              "(0.4, 0.6]           5\n",
              "(0.6, 0.8]          12\n",
              "(0.8, 1.0]          43\n",
              "(1.0, 1.2]         126\n",
              "(1.2, 1.4]         278\n",
              "(1.4, 1.6]         619\n",
              "(1.6, 1.8]        1156\n",
              "(1.8, 2.0]        1975\n",
              "(2.0, 2.2]        2935\n",
              "(2.2, 2.4]        4279\n",
              "(2.4, 2.6]        5681\n",
              "(2.6, 2.8]        7304\n",
              "(2.8, 3.0]        8593\n",
              "(3.0, 3.2]       10076\n",
              "(3.2, 3.4]       11770\n",
              "(3.4, 3.6]       13026\n",
              "(3.6, 3.8]       14851\n",
              "(3.8, 4.0]       16457\n",
              "(4.0, 4.2]       17680\n",
              "(4.2, 4.4]       19896\n",
              "(4.4, 4.6]       21858\n",
              "(4.6, 4.8]       24293\n",
              "(4.8, 5.0]       26556\n",
              "(5.0, 5.2]       28625\n",
              "(5.2, 5.4]       31311\n",
              "(5.4, 5.6]       34540\n",
              "(5.6, 5.8]       37438\n",
              "(5.8, 6.0]       40255\n",
              "(6.0, 6.2]       43553\n",
              "(6.2, 6.4]       46501\n",
              "(6.4, 6.6]       49309\n",
              "(6.6, 6.8]       51589\n",
              "(6.8, 7.0]       53000\n",
              "(7.0, 7.2]       54349\n",
              "(7.2, 7.4]       55273\n",
              "(7.4, 7.6]       56017\n",
              "(7.6, 7.8]       55990\n",
              "(7.8, 8.0]       54182\n",
              "(8.0, 8.2]       48784\n",
              "(8.2, 8.4]       39796\n",
              "(8.4, 8.6]       27884\n",
              "(8.6, 8.8]       16048\n",
              "(8.8, 9.0]        7573\n",
              "(9.0, 9.2]        2899\n",
              "(9.2, 9.4]         962\n",
              "(9.4, 9.6]         221\n",
              "(9.6, 9.8]          43\n",
              "(9.8, 10.0]          0\n",
              "Name: count, dtype: int64"
            ],
            "text/html": [
              "<div>\n",
              "<style scoped>\n",
              "    .dataframe tbody tr th:only-of-type {\n",
              "        vertical-align: middle;\n",
              "    }\n",
              "\n",
              "    .dataframe tbody tr th {\n",
              "        vertical-align: top;\n",
              "    }\n",
              "\n",
              "    .dataframe thead th {\n",
              "        text-align: right;\n",
              "    }\n",
              "</style>\n",
              "<table border=\"1\" class=\"dataframe\">\n",
              "  <thead>\n",
              "    <tr style=\"text-align: right;\">\n",
              "      <th></th>\n",
              "      <th>count</th>\n",
              "    </tr>\n",
              "  </thead>\n",
              "  <tbody>\n",
              "    <tr>\n",
              "      <th>(-0.001, 0.2]</th>\n",
              "      <td>1</td>\n",
              "    </tr>\n",
              "    <tr>\n",
              "      <th>(0.2, 0.4]</th>\n",
              "      <td>1</td>\n",
              "    </tr>\n",
              "    <tr>\n",
              "      <th>(0.4, 0.6]</th>\n",
              "      <td>5</td>\n",
              "    </tr>\n",
              "    <tr>\n",
              "      <th>(0.6, 0.8]</th>\n",
              "      <td>12</td>\n",
              "    </tr>\n",
              "    <tr>\n",
              "      <th>(0.8, 1.0]</th>\n",
              "      <td>43</td>\n",
              "    </tr>\n",
              "    <tr>\n",
              "      <th>(1.0, 1.2]</th>\n",
              "      <td>126</td>\n",
              "    </tr>\n",
              "    <tr>\n",
              "      <th>(1.2, 1.4]</th>\n",
              "      <td>278</td>\n",
              "    </tr>\n",
              "    <tr>\n",
              "      <th>(1.4, 1.6]</th>\n",
              "      <td>619</td>\n",
              "    </tr>\n",
              "    <tr>\n",
              "      <th>(1.6, 1.8]</th>\n",
              "      <td>1156</td>\n",
              "    </tr>\n",
              "    <tr>\n",
              "      <th>(1.8, 2.0]</th>\n",
              "      <td>1975</td>\n",
              "    </tr>\n",
              "    <tr>\n",
              "      <th>(2.0, 2.2]</th>\n",
              "      <td>2935</td>\n",
              "    </tr>\n",
              "    <tr>\n",
              "      <th>(2.2, 2.4]</th>\n",
              "      <td>4279</td>\n",
              "    </tr>\n",
              "    <tr>\n",
              "      <th>(2.4, 2.6]</th>\n",
              "      <td>5681</td>\n",
              "    </tr>\n",
              "    <tr>\n",
              "      <th>(2.6, 2.8]</th>\n",
              "      <td>7304</td>\n",
              "    </tr>\n",
              "    <tr>\n",
              "      <th>(2.8, 3.0]</th>\n",
              "      <td>8593</td>\n",
              "    </tr>\n",
              "    <tr>\n",
              "      <th>(3.0, 3.2]</th>\n",
              "      <td>10076</td>\n",
              "    </tr>\n",
              "    <tr>\n",
              "      <th>(3.2, 3.4]</th>\n",
              "      <td>11770</td>\n",
              "    </tr>\n",
              "    <tr>\n",
              "      <th>(3.4, 3.6]</th>\n",
              "      <td>13026</td>\n",
              "    </tr>\n",
              "    <tr>\n",
              "      <th>(3.6, 3.8]</th>\n",
              "      <td>14851</td>\n",
              "    </tr>\n",
              "    <tr>\n",
              "      <th>(3.8, 4.0]</th>\n",
              "      <td>16457</td>\n",
              "    </tr>\n",
              "    <tr>\n",
              "      <th>(4.0, 4.2]</th>\n",
              "      <td>17680</td>\n",
              "    </tr>\n",
              "    <tr>\n",
              "      <th>(4.2, 4.4]</th>\n",
              "      <td>19896</td>\n",
              "    </tr>\n",
              "    <tr>\n",
              "      <th>(4.4, 4.6]</th>\n",
              "      <td>21858</td>\n",
              "    </tr>\n",
              "    <tr>\n",
              "      <th>(4.6, 4.8]</th>\n",
              "      <td>24293</td>\n",
              "    </tr>\n",
              "    <tr>\n",
              "      <th>(4.8, 5.0]</th>\n",
              "      <td>26556</td>\n",
              "    </tr>\n",
              "    <tr>\n",
              "      <th>(5.0, 5.2]</th>\n",
              "      <td>28625</td>\n",
              "    </tr>\n",
              "    <tr>\n",
              "      <th>(5.2, 5.4]</th>\n",
              "      <td>31311</td>\n",
              "    </tr>\n",
              "    <tr>\n",
              "      <th>(5.4, 5.6]</th>\n",
              "      <td>34540</td>\n",
              "    </tr>\n",
              "    <tr>\n",
              "      <th>(5.6, 5.8]</th>\n",
              "      <td>37438</td>\n",
              "    </tr>\n",
              "    <tr>\n",
              "      <th>(5.8, 6.0]</th>\n",
              "      <td>40255</td>\n",
              "    </tr>\n",
              "    <tr>\n",
              "      <th>(6.0, 6.2]</th>\n",
              "      <td>43553</td>\n",
              "    </tr>\n",
              "    <tr>\n",
              "      <th>(6.2, 6.4]</th>\n",
              "      <td>46501</td>\n",
              "    </tr>\n",
              "    <tr>\n",
              "      <th>(6.4, 6.6]</th>\n",
              "      <td>49309</td>\n",
              "    </tr>\n",
              "    <tr>\n",
              "      <th>(6.6, 6.8]</th>\n",
              "      <td>51589</td>\n",
              "    </tr>\n",
              "    <tr>\n",
              "      <th>(6.8, 7.0]</th>\n",
              "      <td>53000</td>\n",
              "    </tr>\n",
              "    <tr>\n",
              "      <th>(7.0, 7.2]</th>\n",
              "      <td>54349</td>\n",
              "    </tr>\n",
              "    <tr>\n",
              "      <th>(7.2, 7.4]</th>\n",
              "      <td>55273</td>\n",
              "    </tr>\n",
              "    <tr>\n",
              "      <th>(7.4, 7.6]</th>\n",
              "      <td>56017</td>\n",
              "    </tr>\n",
              "    <tr>\n",
              "      <th>(7.6, 7.8]</th>\n",
              "      <td>55990</td>\n",
              "    </tr>\n",
              "    <tr>\n",
              "      <th>(7.8, 8.0]</th>\n",
              "      <td>54182</td>\n",
              "    </tr>\n",
              "    <tr>\n",
              "      <th>(8.0, 8.2]</th>\n",
              "      <td>48784</td>\n",
              "    </tr>\n",
              "    <tr>\n",
              "      <th>(8.2, 8.4]</th>\n",
              "      <td>39796</td>\n",
              "    </tr>\n",
              "    <tr>\n",
              "      <th>(8.4, 8.6]</th>\n",
              "      <td>27884</td>\n",
              "    </tr>\n",
              "    <tr>\n",
              "      <th>(8.6, 8.8]</th>\n",
              "      <td>16048</td>\n",
              "    </tr>\n",
              "    <tr>\n",
              "      <th>(8.8, 9.0]</th>\n",
              "      <td>7573</td>\n",
              "    </tr>\n",
              "    <tr>\n",
              "      <th>(9.0, 9.2]</th>\n",
              "      <td>2899</td>\n",
              "    </tr>\n",
              "    <tr>\n",
              "      <th>(9.2, 9.4]</th>\n",
              "      <td>962</td>\n",
              "    </tr>\n",
              "    <tr>\n",
              "      <th>(9.4, 9.6]</th>\n",
              "      <td>221</td>\n",
              "    </tr>\n",
              "    <tr>\n",
              "      <th>(9.6, 9.8]</th>\n",
              "      <td>43</td>\n",
              "    </tr>\n",
              "    <tr>\n",
              "      <th>(9.8, 10.0]</th>\n",
              "      <td>0</td>\n",
              "    </tr>\n",
              "  </tbody>\n",
              "</table>\n",
              "</div><br><label><b>dtype:</b> int64</label>"
            ]
          },
          "metadata": {},
          "execution_count": 29
        }
      ]
    },
    {
      "cell_type": "code",
      "source": [
        "import matplotlib.pyplot as plt\n",
        "pho_diem_toan.plot(kind='bar', figsize=(12, 5), color='skyblue', edgecolor='black')\n",
        "plt.title(\"Biểu đồ cột phổ điểm môn Toán\")\n",
        "plt.xlabel(\"Khoảng điểm\")\n",
        "plt.ylabel(\"Số bài thi\")\n",
        "plt.xticks(rotation=90)\n",
        "plt.grid(axis='y', linestyle='--', alpha=0.5)\n",
        "plt.tight_layout()\n",
        "plt.show()"
      ],
      "metadata": {
        "colab": {
          "base_uri": "https://localhost:8080/",
          "height": 361
        },
        "id": "q0ND3eJMuqVU",
        "outputId": "34fa2599-d6b1-409f-80a9-3941b430c1ec"
      },
      "execution_count": 30,
      "outputs": [
        {
          "output_type": "display_data",
          "data": {
            "text/plain": [
              "<Figure size 1200x500 with 1 Axes>"
            ],
            "image/png": "[encoded data removed]"
          },
          "metadata": {}
        }
      ]
    },
    {
      "cell_type": "code",
      "source": [
        "df['toan'].describe()"
      ],
      "metadata": {
        "colab": {
          "base_uri": "https://localhost:8080/",
          "height": 335
        },
        "collapsed": true,
        "id": "4LM8n0Kivykk",
        "outputId": "68ac1df0-3575-4c07-d405-a0a2f9d3fdcc"
      },
      "execution_count": 31,
      "outputs": [
        {
          "output_type": "execute_result",
          "data": {
            "text/plain": [
              "count    1.045613e+06\n",
              "mean     6.447309e+00\n",
              "std      1.556900e+00\n",
              "min      0.000000e+00\n",
              "25%      5.400000e+00\n",
              "50%      6.800000e+00\n",
              "75%      7.600000e+00\n",
              "max      9.800000e+00\n",
              "Name: toan, dtype: float64"
            ],
            "text/html": [
              "<div>\n",
              "<style scoped>\n",
              "    .dataframe tbody tr th:only-of-type {\n",
              "        vertical-align: middle;\n",
              "    }\n",
              "\n",
              "    .dataframe tbody tr th {\n",
              "        vertical-align: top;\n",
              "    }\n",
              "\n",
              "    .dataframe thead th {\n",
              "        text-align: right;\n",
              "    }\n",
              "</style>\n",
              "<table border=\"1\" class=\"dataframe\">\n",
              "  <thead>\n",
              "    <tr style=\"text-align: right;\">\n",
              "      <th></th>\n",
              "      <th>toan</th>\n",
              "    </tr>\n",
              "  </thead>\n",
              "  <tbody>\n",
              "    <tr>\n",
              "      <th>count</th>\n",
              "      <td>1.045613e+06</td>\n",
              "    </tr>\n",
              "    <tr>\n",
              "      <th>mean</th>\n",
              "      <td>6.447309e+00</td>\n",
              "    </tr>\n",
              "    <tr>\n",
              "      <th>std</th>\n",
              "      <td>1.556900e+00</td>\n",
              "    </tr>\n",
              "    <tr>\n",
              "      <th>min</th>\n",
              "      <td>0.000000e+00</td>\n",
              "    </tr>\n",
              "    <tr>\n",
              "      <th>25%</th>\n",
              "      <td>5.400000e+00</td>\n",
              "    </tr>\n",
              "    <tr>\n",
              "      <th>50%</th>\n",
              "      <td>6.800000e+00</td>\n",
              "    </tr>\n",
              "    <tr>\n",
              "      <th>75%</th>\n",
              "      <td>7.600000e+00</td>\n",
              "    </tr>\n",
              "    <tr>\n",
              "      <th>max</th>\n",
              "      <td>9.800000e+00</td>\n",
              "    </tr>\n",
              "  </tbody>\n",
              "</table>\n",
              "</div><br><label><b>dtype:</b> float64</label>"
            ]
          },
          "metadata": {},
          "execution_count": 31
        }
      ]
    },
    {
      "cell_type": "code",
      "source": [
        "mean_toan = df['toan'].mean()\n",
        "median_toan = df['toan'].median()\n",
        "mode_toan = df['toan'].mode()[0]\n",
        "std_toan = df['toan'].std()"
      ],
      "metadata": {
        "id": "alfdjg0zv9xT"
      },
      "execution_count": 32,
      "outputs": []
    },
    {
      "cell_type": "code",
      "source": [
        "mode_toan"
      ],
      "metadata": {
        "colab": {
          "base_uri": "https://localhost:8080/"
        },
        "id": "CQc456HAwKnc",
        "outputId": "c2017891-133f-4555-8ba5-a280aa64c666"
      },
      "execution_count": 33,
      "outputs": [
        {
          "output_type": "execute_result",
          "data": {
            "text/plain": [
              "np.float64(7.6)"
            ]
          },
          "metadata": {},
          "execution_count": 33
        }
      ]
    },
    {
      "cell_type": "markdown",
      "source": [
        "1. Số bài thi môn Toán: 1,045,613 thí sinh.\n",
        "\n",
        "2. Phổ điểm môn Toán:\n",
        "  \n",
        "  * Cho thấy sự phân bố số lượng thí sinh theo từng khoảng điểm.\n",
        "  * Khoảng điểm có nhiều thí sinh đạt nhất là: (7.4, 7.6] (56,017 thí sinh).\n",
        "\n",
        "3. Các giá trị thống kê cho môn Toán:\n",
        "\n",
        "  * Điểm trung bình: 6.447\n",
        "  * Điểm trung vị: 6.8\n",
        "  * Mode: 7.6\n",
        "  * Độ lệch chuẩn: 1.557"
      ],
      "metadata": {
        "id": "rfV0m1FQwXSj"
      }
    },
    {
      "cell_type": "markdown",
      "source": [
        "## Câu 3: Lọc Dữ liệu và Phân tích So sánh"
      ],
      "metadata": {
        "id": "Sxpkmu2S1KMc"
      }
    },
    {
      "cell_type": "code",
      "source": [
        "# 3.1. Tìm hiểu và cho biết mã tỉnh của TP. Hồ Chí Minh (02) và Hà Nội (01)\n",
        "df['sbd'] = df['sbd'].astype(str).str.zfill(8)\n",
        "df['ma_tinh'] = df['sbd'].str[:2]"
      ],
      "metadata": {
        "id": "DJ9tOcD71XL8"
      },
      "execution_count": 39,
      "outputs": []
    },
    {
      "cell_type": "code",
      "source": [
        "# 3.2. Trích xuất 2 bộ dữ liệu riêng: df_hcm (dữ liệu của TPHCM) và df_hanoi (dữ liệu của Hà Nội).\n",
        "df_hanoi = df[df['ma_tinh'] == '01'].copy()\n",
        "df_hcm = df[df['ma_tinh'] == '02'].copy()"
      ],
      "metadata": {
        "id": "T8Y4Wm8n1afU"
      },
      "execution_count": 42,
      "outputs": []
    },
    {
      "cell_type": "code",
      "source": [
        "# 3.3. Phân tích môn Toán\n",
        "## Ho Chi Minh\n",
        "stats_toan_hcm = {\n",
        "    'mean' : df_hcm['toan'].mean(),\n",
        "    'median' : df_hcm['toan'].median(),\n",
        "    'mode' : df_hcm['toan'].mode()[0],\n",
        "    'std' : df_hcm['toan'].std()\n",
        "}\n",
        "\n",
        "plt.figure(figsize=(8, 4))\n",
        "plt.bar(stats_toan_hcm.keys(), stats_toan_hcm.values(), color=['skyblue', 'lightgreen', 'pink', 'salmon'])\n",
        "plt.title(\"Phân tích thống kê môn Toán tại Tp. HCM\")\n",
        "plt.tight_layout()\n",
        "plt.show()"
      ],
      "metadata": {
        "colab": {
          "base_uri": "https://localhost:8080/",
          "height": 407
        },
        "id": "vfIEnWrc3Ecu",
        "outputId": "67aef0e6-494b-4766-b134-70055550f8be"
      },
      "execution_count": 43,
      "outputs": [
        {
          "output_type": "display_data",
          "data": {
            "text/plain": [
              "<Figure size 800x400 with 1 Axes>"
            ],
            "image/png": "[encoded data removed]"
          },
          "metadata": {}
        }
      ]
    },
    {
      "cell_type": "code",
      "source": [
        "## Ha Noi\n",
        "stats_toan_hanoi = {\n",
        "    'mean' : df_hanoi['toan'].mean(),\n",
        "    'median' : df_hanoi['toan'].median(),\n",
        "    'mode' : df_hanoi['toan'].mode()[0],\n",
        "    'std' : df_hanoi['toan'].std()\n",
        "}\n",
        "\n",
        "plt.figure(figsize=(8, 4))\n",
        "plt.bar(stats_toan_hanoi.keys(), stats_toan_hanoi.values(), color=['skyblue', 'lightgreen', 'pink', 'salmon'])\n",
        "plt.title(\"Phân tích thống kê môn Toán tại Hà Nội\")\n",
        "plt.tight_layout()\n",
        "plt.show()"
      ],
      "metadata": {
        "colab": {
          "base_uri": "https://localhost:8080/",
          "height": 407
        },
        "id": "iBBfZapw4TZl",
        "outputId": "3ddfa255-c997-451a-f0d4-955465b828bb"
      },
      "execution_count": 44,
      "outputs": [
        {
          "output_type": "display_data",
          "data": {
            "text/plain": [
              "<Figure size 800x400 with 1 Axes>"
            ],
            "image/png": "[encoded data removed]"
          },
          "metadata": {}
        }
      ]
    },
    {
      "cell_type": "code",
      "source": [
        "labels = list(stats_toan_hcm.keys())\n",
        "hcm_values = list(stats_toan_hcm.values())\n",
        "hn_values = list(stats_toan_hanoi.values())\n",
        "\n",
        "x = np.arange(len(labels)) # Vị trí các cột\n",
        "width = 0.35 # Độ rộng mỗi cột\n",
        "\n",
        "plt.figure(figsize=(8, 4))\n",
        "bars_hcm = plt.bar(x - width/2, hcm_values, width, label=\"HCM\", color='white', edgecolor='red', hatch=\"///\")\n",
        "bars_hn = plt.bar(x + width/2, hn_values, width, label=\"Hà Nội\", color='white', edgecolor='blue', hatch=\"\\\\\\\\\\\\\")\n",
        "\n",
        "plt.xticks(x, labels)\n",
        "plt.title('So sánh thống kê môn Toán tại Tp.HCM và Hà Nội')\n",
        "plt.ylabel('Điểm')\n",
        "plt.legend()\n",
        "\n",
        "# Thêm nhãn giá trị cho từng cột\n",
        "for bars in [bars_hcm, bars_hn]:\n",
        "  for bar in bars:\n",
        "    plt.text(bar.get_x() + bar.get_width()/2, bar.get_height(),\n",
        "             f'{bar.get_height():.2f}', ha='center', va=\"bottom\", fontsize=10)\n",
        "\n",
        "plt.tight_layout()\n",
        "plt.show()\n"
      ],
      "metadata": {
        "colab": {
          "base_uri": "https://localhost:8080/",
          "height": 407
        },
        "id": "CUUWFctz450U",
        "outputId": "29367124-fb7e-47d1-b2bc-0245049f3cc7"
      },
      "execution_count": 54,
      "outputs": [
        {
          "output_type": "display_data",
          "data": {
            "text/plain": [
              "<Figure size 800x400 with 1 Axes>"
            ],
            "image/png": "[encoded data removed]"
          },
          "metadata": {}
        }
      ]
    },
    {
      "cell_type": "code",
      "source": [
        "# 3.4. Thử thách: Tạo một cột mới Diem_Tong_Cong\n",
        "score_cols = ['toan', 'ngu_van', 'ngoai_ngu', 'vat_li', 'hoa_hoc', 'sinh_hoc', 'lich_su', 'dia_li', 'gdcd']\n",
        "df_hcm[score_cols] = df_hcm[score_cols].fillna(0)\n",
        "\n",
        "df_hcm['KHTN'] = df_hcm['vat_li'] + df_hcm['hoa_hoc'] + df_hcm['sinh_hoc']\n",
        "df_hcm['KHXH'] = df_hcm['lich_su'] + df_hcm['dia_li'] + df_hcm['gdcd']\n",
        "\n",
        "df_hcm['Diem_Tong_Cong'] = df_hcm['toan'] + df_hcm['ngu_van'] + df_hcm['ngoai_ngu'] + df_hcm[['KHTN', 'KHXH']].max(axis=1)\n",
        "\n",
        "df_hcm.to_csv('/content/drive/MyDrive/Colab Notebooks/Datasets/DiemToanTHPT24/diem_thi_hcm.csv', index=False)"
      ],
      "metadata": {
        "id": "y_iRDcmw8gmu"
      },
      "execution_count": 57,
      "outputs": []
    },
    {
      "cell_type": "code",
      "source": [
        "df_hanoi[score_cols] = df_hanoi[score_cols].fillna(0)\n",
        "\n",
        "df_hanoi['KHTN'] = df_hanoi['vat_li'] + df_hanoi['hoa_hoc'] + df_hanoi['sinh_hoc']\n",
        "df_hanoi['KHXH'] = df_hanoi['lich_su'] + df_hanoi['dia_li'] + df_hanoi['gdcd']\n",
        "\n",
        "df_hanoi['Diem_Tong_Cong'] = df_hanoi['toan'] + df_hanoi['ngu_van'] + df_hanoi['ngoai_ngu'] + df_hanoi[['KHTN', 'KHXH']].max(axis=1)\n",
        "\n",
        "df_hanoi.to_csv('/content/drive/MyDrive/Colab Notebooks/Datasets/DiemToanTHPT24/diem_thi_hanoi.csv', index=False)"
      ],
      "metadata": {
        "id": "vKkbsmsv-9rd"
      },
      "execution_count": 58,
      "outputs": []
    },
    {
      "cell_type": "markdown",
      "source": [
        "## Câu 4: Áp dụng Logic Phức tạp - Xếp loại Tốt nghiệp"
      ],
      "metadata": {
        "id": "mjbDtGKlK_9P"
      }
    },
    {
      "cell_type": "code",
      "source": [
        "import numpy as np\n",
        "df_hcm_raw = df[df['ma_tinh'] == '02'].copy()\n",
        "mon_bb = ['toan', 'ngu_van', 'ngoai_ngu']\n",
        "mon_khtn, mon_khxh = ['vat_li', 'hoa_hoc', 'sinh_hoc'], ['lich_su', 'dia_li', 'gdcd']\n",
        "mon_khtn_all, mon_khxh_all = mon_bb + mon_khtn, mon_bb + mon_khxh\n",
        "khtn = df_hcm_raw[mon_khtn].notna().all(1)\n",
        "khxh = df_hcm_raw[mon_khxh].notna().all(1)\n",
        "\n",
        "# Tất cả gán ban đầu là không tốt nghiệp, sẽ cập nhật sau:\n",
        "df_hcm_raw['xep_loai'] = 'Không tốt nghiệp'\n",
        "\n",
        "mask = khtn | khxh\n",
        "\n",
        "# Nếu khtn là true, thì tính điểm trung bình của nhóm KHTN, ngược lại tính điểm trung bình của nhóm KHXH\n",
        "dxtn = np.where(\n",
        "    khtn,\n",
        "    df_hcm_raw[mon_khtn_all].mean(1),\n",
        "    df_hcm_raw[mon_khxh_all].mean(1)\n",
        ")\n",
        "# Kiểm tra xem có môn <= 1.0 không?\n",
        "co_duoi_1 = np.where(\n",
        "    khtn,\n",
        "    (df_hcm_raw[mon_khtn_all].min(1) <= 1),\n",
        "    (df_hcm_raw[mon_khxh_all].min(1) <= 1)\n",
        ")\n",
        "rot = (~mask) | co_duoi_1 | (dxtn < 5)\n",
        "# ~mask là không có tổ hợp hợp lệ\n",
        "\n",
        "gioi = (dxtn >= 8.0) & np.where(\n",
        "    khtn,\n",
        "    (df_hcm_raw[mon_khtn_all] >= 7).all(1),\n",
        "    (df_hcm_raw[mon_khxh_all] >= 7).all(1)\n",
        ")\n",
        "kha = (dxtn >= 6.5) & np.where(\n",
        "    khtn,\n",
        "    (df_hcm_raw[mon_khtn_all] >= 6).all(1),\n",
        "    (df_hcm_raw[mon_khxh_all] >= 6).all(1)\n",
        ")\n",
        "df_hcm_raw.loc[gioi & ~rot, 'xep_loai'] = 'Giỏi'\n",
        "df_hcm_raw.loc[kha & ~rot & ~gioi, 'xep_loai'] = 'Khá'\n",
        "df_hcm_raw.loc[~kha & ~rot & ~gioi, 'xep_loai'] = 'Trung bình'\n",
        "\n",
        "df_hcm_raw['xep_loai'].value_counts()"
      ],
      "metadata": {
        "colab": {
          "base_uri": "https://localhost:8080/",
          "height": 241
        },
        "id": "M98J3tr8LlY3",
        "outputId": "d934609d-a314-4cb1-bd6a-f8b6ecd5277d"
      },
      "execution_count": 68,
      "outputs": [
        {
          "output_type": "execute_result",
          "data": {
            "text/plain": [
              "xep_loai\n",
              "Trung bình          53078\n",
              "Khá                 18357\n",
              "Không tốt nghiệp    12035\n",
              "Giỏi                 3852\n",
              "Name: count, dtype: int64"
            ],
            "text/html": [
              "<div>\n",
              "<style scoped>\n",
              "    .dataframe tbody tr th:only-of-type {\n",
              "        vertical-align: middle;\n",
              "    }\n",
              "\n",
              "    .dataframe tbody tr th {\n",
              "        vertical-align: top;\n",
              "    }\n",
              "\n",
              "    .dataframe thead th {\n",
              "        text-align: right;\n",
              "    }\n",
              "</style>\n",
              "<table border=\"1\" class=\"dataframe\">\n",
              "  <thead>\n",
              "    <tr style=\"text-align: right;\">\n",
              "      <th></th>\n",
              "      <th>count</th>\n",
              "    </tr>\n",
              "    <tr>\n",
              "      <th>xep_loai</th>\n",
              "      <th></th>\n",
              "    </tr>\n",
              "  </thead>\n",
              "  <tbody>\n",
              "    <tr>\n",
              "      <th>Trung bình</th>\n",
              "      <td>53078</td>\n",
              "    </tr>\n",
              "    <tr>\n",
              "      <th>Khá</th>\n",
              "      <td>18357</td>\n",
              "    </tr>\n",
              "    <tr>\n",
              "      <th>Không tốt nghiệp</th>\n",
              "      <td>12035</td>\n",
              "    </tr>\n",
              "    <tr>\n",
              "      <th>Giỏi</th>\n",
              "      <td>3852</td>\n",
              "    </tr>\n",
              "  </tbody>\n",
              "</table>\n",
              "</div><br><label><b>dtype:</b> int64</label>"
            ]
          },
          "metadata": {},
          "execution_count": 68
        }
      ]
    },
    {
      "cell_type": "code",
      "source": [
        "import seaborn as sns\n",
        "\n",
        "plt.figure(figsize=(6, 6))\n",
        "\n",
        "ax = sns.countplot(x=\"xep_loai\", hue=\"xep_loai\", data=df_hcm_raw, order=['Giỏi', 'Khá', 'Trung bình', 'Không tốt nghiệp'], palette='Set2')\n",
        "\n",
        "plt.title('Phân loại tốt nghiệp', fontsize=14)\n",
        "plt.xlabel('Xếp loại', fontsize=12)\n",
        "plt.ylabel('Số lượng', fontsize=12)\n",
        "\n",
        "for p in ax.patches:\n",
        "  ax.annotate(format(p.get_height(), '.0f'),\n",
        "              (p.get_x() + p.get_width()/ 2., p.get_height()),\n",
        "              ha=\"center\", va='bottom', fontsize=10\n",
        "              )\n",
        "\n",
        "plt.show()"
      ],
      "metadata": {
        "colab": {
          "base_uri": "https://localhost:8080/",
          "height": 574
        },
        "id": "yBcYNr3BP5nP",
        "outputId": "fd5816a6-bcab-4d4c-beb0-d14dc669ce57"
      },
      "execution_count": 67,
      "outputs": [
        {
          "output_type": "display_data",
          "data": {
            "text/plain": [
              "<Figure size 600x600 with 1 Axes>"
            ],
            "image/png": "[encoded data removed]"
          },
          "metadata": {}
        }
      ]
    }
  ]
}